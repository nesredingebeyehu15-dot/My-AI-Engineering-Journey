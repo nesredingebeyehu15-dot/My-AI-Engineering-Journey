{
  "nbformat": 4,
  "nbformat_minor": 0,
  "metadata": {
    "colab": {
      "provenance": [],
      "authorship_tag": "ABX9TyNg/nfWNEdMwglgps9cr+NJ",
      "include_colab_link": true
    },
    "kernelspec": {
      "name": "python3",
      "display_name": "Python 3"
    },
    "language_info": {
      "name": "python"
    }
  },
  "cells": [
    {
      "cell_type": "markdown",
      "metadata": {
        "id": "view-in-github",
        "colab_type": "text"
      },
      "source": [
        "<a href=\"https://colab.research.google.com/github/nesredingebeyehu15-dot/My-AI-Engineering-Journey/blob/main/Module-02-Data-Science-Foundations/Day-20_and_21-Pandas-Creating-Columns.ipynb\" target=\"_parent\"><img src=\"https://colab.research.google.com/assets/colab-badge.svg\" alt=\"Open In Colab\"/></a>"
      ]
    },
    {
      "cell_type": "code",
      "execution_count": 1,
      "metadata": {
        "colab": {
          "base_uri": "https://localhost:8080/"
        },
        "id": "4UXFT2SYzmck",
        "outputId": "0c1afea9-007d-4cc0-aca8-10e2cb487c06"
      },
      "outputs": [
        {
          "output_type": "stream",
          "name": "stdout",
          "text": [
            "--- 1. Original Employee Data ---\n",
            "     name  hours_worked  rate_per_hour\n",
            "0     Ali            40             10\n",
            "1  Fatuma            45             12\n",
            "2   Dawit            38             10\n",
            "\n",
            "--- 2. DataFrame with Gross Salary ---\n",
            "     name  hours_worked  rate_per_hour  gross_salary\n",
            "0     Ali            40             10           400\n",
            "1  Fatuma            45             12           540\n",
            "2   Dawit            38             10           380\n",
            "\n",
            "--- 3. DataFrame with Tax ---\n",
            "     name  hours_worked  rate_per_hour  gross_salary   tax\n",
            "0     Ali            40             10           400  60.0\n",
            "1  Fatuma            45             12           540  81.0\n",
            "2   Dawit            38             10           380  57.0\n",
            "\n",
            "--- 4. Final DataFrame with Net Salary ---\n",
            "     name  hours_worked  rate_per_hour  gross_salary   tax  net_salary\n",
            "0     Ali            40             10           400  60.0       340.0\n",
            "1  Fatuma            45             12           540  81.0       459.0\n",
            "2   Dawit            38             10           380  57.0       323.0\n"
          ]
        }
      ],
      "source": [
        "import pandas as pd\n",
        "\n",
        "employee_data = {\n",
        "    \"name\": [\"Ali\", \"Fatuma\", \"Dawit\"],\n",
        "    \"hours_worked\": [40, 45, 38],\n",
        "    \"rate_per_hour\": [10, 12, 10] # in USD\n",
        "}\n",
        "employees_df = pd.DataFrame(employee_data)\n",
        "\n",
        "print(\"--- 1. Original Employee Data ---\")\n",
        "print(employees_df)\n",
        "\n",
        "# --- 2. Calculate Gross Salary (Correction: Use Multiplication *) ---\n",
        "employees_df['gross_salary'] = employees_df['hours_worked'] * employees_df['rate_per_hour']\n",
        "\n",
        "print(\"\\n--- 2. DataFrame with Gross Salary ---\")\n",
        "print(employees_df)\n",
        "\n",
        "# --- 3. Calculate Tax ---\n",
        "employees_df['tax'] = employees_df['gross_salary'] * 0.15\n",
        "\n",
        "print(\"\\n--- 3. DataFrame with Tax ---\")\n",
        "print(employees_df)\n",
        "\n",
        "# --- 4. Calculate Net Salary ---\n",
        "employees_df['net_salary'] = employees_df['gross_salary'] - employees_df['tax']\n",
        "\n",
        "print(\"\\n--- 4. Final DataFrame with Net Salary ---\")\n",
        "print(employees_df)"
      ]
    }
  ]
}