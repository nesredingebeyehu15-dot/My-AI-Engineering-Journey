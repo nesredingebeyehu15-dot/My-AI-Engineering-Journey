{
  "nbformat": 4,
  "nbformat_minor": 0,
  "metadata": {
    "colab": {
      "provenance": [],
      "authorship_tag": "ABX9TyMsneX3MEzhrnKBAtdj3LAC",
      "include_colab_link": true
    },
    "kernelspec": {
      "name": "python3",
      "display_name": "Python 3"
    },
    "language_info": {
      "name": "python"
    }
  },
  "cells": [
    {
      "cell_type": "markdown",
      "metadata": {
        "id": "view-in-github",
        "colab_type": "text"
      },
      "source": [
        "<a href=\"https://colab.research.google.com/github/nesredingebeyehu15-dot/My-AI-Engineering-Journey/blob/main/Module-02-Data-Science-Foundations/Day-16_and_17-Intro-to-Pandas.ipynb\" target=\"_parent\"><img src=\"https://colab.research.google.com/assets/colab-badge.svg\" alt=\"Open In Colab\"/></a>"
      ]
    },
    {
      "cell_type": "code",
      "execution_count": 1,
      "metadata": {
        "colab": {
          "base_uri": "https://localhost:8080/"
        },
        "id": "yzdbP1ueewQz",
        "outputId": "73189689-392e-423c-89fe-9432dc87d6ff"
      },
      "outputs": [
        {
          "output_type": "stream",
          "name": "stdout",
          "text": [
            "--- My AI Engineering Journey Tracker ---\n",
            "\n",
            "Full Project Tracker:\n",
            "    project_name  days_spent  mastery_level\n",
            "0  Python Basics          12             95\n",
            "1    NumPy Intro           3             95\n",
            "2   Pandas Intro           2              0\n",
            "\n",
            "Just the first project in the tracker:\n",
            "    project_name  days_spent  mastery_level\n",
            "0  Python Basics          12             95\n",
            "\n",
            "So far, I have completed 3 projects.\n"
          ]
        }
      ],
      "source": [
        "import pandas as pd\n",
        "\n",
        "# Data for our projects\n",
        "project_data = {\n",
        "    \"project_name\": [\"Python Basics\", \"NumPy Intro\", \"Pandas Intro\"],\n",
        "    \"days_spent\": [12, 3, 2],\n",
        "    \"mastery_level\": [95, 95, 0]\n",
        "}\n",
        "\n",
        "# Create the DataFrame\n",
        "tracker_df = pd.DataFrame(project_data)\n",
        "\n",
        "# --- START OF THE MISSION ---\n",
        "\n",
        "print(\"--- My AI Engineering Journey Tracker ---\")\n",
        "\n",
        "# Task 1: Display the entire DataFrame to see our full progress.\n",
        "print(\"\\nFull Project Tracker:\")\n",
        "print(tracker_df)\n",
        "\n",
        "# Task 2: Use .head(1) to see only the very first project.\n",
        "print(\"\\nJust the first project in the tracker:\")\n",
        "print(tracker_df.head(1))\n",
        "\n",
        "# Task 3: Use .shape to count the projects.\n",
        "number_of_projects = tracker_df.shape[0]\n",
        "print(f\"\\nSo far, I have completed {number_of_projects} projects.\")"
      ]
    }
  ]
}