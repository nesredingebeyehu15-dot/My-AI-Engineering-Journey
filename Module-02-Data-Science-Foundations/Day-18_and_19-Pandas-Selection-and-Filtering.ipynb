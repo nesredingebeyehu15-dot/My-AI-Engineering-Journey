{
  "nbformat": 4,
  "nbformat_minor": 0,
  "metadata": {
    "colab": {
      "provenance": [],
      "authorship_tag": "ABX9TyNEbLvUJACOjybCDFHsZ4jj",
      "include_colab_link": true
    },
    "kernelspec": {
      "name": "python3",
      "display_name": "Python 3"
    },
    "language_info": {
      "name": "python"
    }
  },
  "cells": [
    {
      "cell_type": "markdown",
      "metadata": {
        "id": "view-in-github",
        "colab_type": "text"
      },
      "source": [
        "<a href=\"https://colab.research.google.com/github/nesredingebeyehu15-dot/My-AI-Engineering-Journey/blob/main/Module-02-Data-Science-Foundations/Day-18_and_19-Pandas-Selection-and-Filtering.ipynb\" target=\"_parent\"><img src=\"https://colab.research.google.com/assets/colab-badge.svg\" alt=\"Open In Colab\"/></a>"
      ]
    },
    {
      "cell_type": "code",
      "execution_count": 1,
      "metadata": {
        "colab": {
          "base_uri": "https://localhost:8080/"
        },
        "id": "yK5vcVXivVDJ",
        "outputId": "674d1ba4-7704-464e-cc2b-06b743947891"
      },
      "outputs": [
        {
          "output_type": "stream",
          "name": "stdout",
          "text": [
            "--- Original DataFrame ---\n",
            "  student_name  math_score  c++_score   university\n",
            "0         Abdi          85         88        Jimma\n",
            "1         Hawa          92         90  Addis Ababa\n",
            "2        Yusuf          78         81        Jimma\n",
            "\n",
            "-----------------c ++ column-------------------\n",
            "\n",
            "0    88\n",
            "1    90\n",
            "2    81\n",
            "Name: c++_score, dtype: int64\n",
            "\n",
            "The student who scored higher than 85 in maths\n",
            "\n",
            "  student_name  math_score  c++_score   university\n",
            "0         Abdi          85         88        Jimma\n",
            "1         Hawa          92         90  Addis Ababa\n",
            "\n",
            " ---------adiss ababa student----------------\n",
            "\n",
            "  student_name  math_score  c++_score   university\n",
            "1         Hawa          92         90  Addis Ababa\n",
            "\n",
            "-------------The student who scored higher than 80 in maths and higher than 85 in c++--------------\n",
            "\n",
            "  student_name  math_score  c++_score   university\n",
            "0         Abdi          85         88        Jimma\n",
            "1         Hawa          92         90  Addis Ababa\n"
          ]
        }
      ],
      "source": [
        "import pandas as pd\n",
        "\n",
        "# Data for our students\n",
        "student_data = {\n",
        "    \"student_name\": [\"Abdi\", \"Hawa\", \"Yusuf\"],\n",
        "    \"math_score\": [85, 92, 78],\n",
        "    \"c++_score\": [88, 90, 81],\n",
        "    \"university\": [\"Jimma\", \"Addis Ababa\", \"Jimma\"]\n",
        "}\n",
        "grades_df = pd.DataFrame(student_data)\n",
        "print(\"--- Original DataFrame ---\")\n",
        "print(grades_df)\n",
        "\n",
        "print(\"\\n-----------------c ++ column-------------------\\n\")\n",
        "\n",
        "grades_c_column=grades_df['c++_score']\n",
        "print(grades_c_column)\n",
        "\n",
        "print(\"\\nThe student who scored higher than 85 in maths\\n\")\n",
        "condition=grades_df['c++_score']>85\n",
        "grades_c_plus=grades_df[ condition ]\n",
        "print(grades_c_plus)\n",
        "print(\"\\n ---------adiss ababa student----------------\\n\")\n",
        "condition=grades_df[grades_df['university']=='Addis Ababa']\n",
        "print(condition)\n",
        "print(\"\\n-------------The student who scored higher than 80 in maths and higher than 85 in c++--------------\\n\")\n",
        "\n",
        "condition1=grades_df['math_score']>80\n",
        "condition2=grades_df['c++_score']>85\n",
        "\n",
        "mixed=grades_df[(condition1)&(condition2)]\n",
        "print(mixed)"
      ]
    }
  ]
}