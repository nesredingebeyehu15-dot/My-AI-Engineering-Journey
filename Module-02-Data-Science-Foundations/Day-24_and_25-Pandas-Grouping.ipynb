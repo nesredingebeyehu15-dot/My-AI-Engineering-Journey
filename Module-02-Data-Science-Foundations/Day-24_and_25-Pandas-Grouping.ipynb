{
  "nbformat": 4,
  "nbformat_minor": 0,
  "metadata": {
    "colab": {
      "provenance": [],
      "authorship_tag": "ABX9TyMtgnM3usLE1KlB4uf1qS4U",
      "include_colab_link": true
    },
    "kernelspec": {
      "name": "python3",
      "display_name": "Python 3"
    },
    "language_info": {
      "name": "python"
    }
  },
  "cells": [
    {
      "cell_type": "markdown",
      "metadata": {
        "id": "view-in-github",
        "colab_type": "text"
      },
      "source": [
        "<a href=\"https://colab.research.google.com/github/nesredingebeyehu15-dot/My-AI-Engineering-Journey/blob/main/Module-02-Data-Science-Foundations/Day-24_and_25-Pandas-Grouping.ipynb\" target=\"_parent\"><img src=\"https://colab.research.google.com/assets/colab-badge.svg\" alt=\"Open In Colab\"/></a>"
      ]
    },
    {
      "cell_type": "code",
      "execution_count": 1,
      "metadata": {
        "colab": {
          "base_uri": "https://localhost:8080/"
        },
        "id": "ZcVGers0Wzi_",
        "outputId": "31faee86-ad77-4319-f392-69b617f36d4d"
      },
      "outputs": [
        {
          "output_type": "stream",
          "name": "stdout",
          "text": [
            "--- Initial Student Data ---\n",
            "  university  student_id  score\n",
            "0      Jimma         101     85\n",
            "1        AAU         201     92\n",
            "2      Jimma         102     78\n",
            "3        AAU         202     95\n",
            "4      Jimma         103     88\n",
            "------------------------------\n",
            "--- Analysis Summary per University ---\n",
            "            count       mean  max  min\n",
            "university                            \n",
            "AAU             2  93.500000   95   92\n",
            "Jimma           3  83.666667   88   78\n",
            "------------------------------\n",
            "Analysis Complete.\n"
          ]
        }
      ],
      "source": [
        "# ==========================================================\n",
        "# DAY:     24 & 25\n",
        "# MODULE:  2 - Pandas\n",
        "# PROJECT: Grouping and Aggregating Student Data\n",
        "# AUTHOR:  Nesredin Gebeyehu\n",
        "# DATE:    October 14, 2018 (E.C.)\n",
        "# ==========================================================\n",
        "\n",
        "# --- 1. SETUP: Import libraries and create the DataFrame ---\n",
        "import pandas as pd\n",
        "\n",
        "student_data = {\n",
        "    \"university\": [\"Jimma\", \"AAU\", \"Jimma\", \"AAU\", \"Jimma\"],\n",
        "    \"student_id\": [101, 201, 102, 202, 103],\n",
        "    \"score\": [85, 92, 78, 95, 88]\n",
        "}\n",
        "grades_df = pd.DataFrame(student_data)\n",
        "print(\"--- Initial Student Data ---\")\n",
        "print(grades_df)\n",
        "print(\"-\" * 30)\n",
        "\n",
        "\n",
        "# --- 2. ANALYSIS: Group data by university and perform multiple calculations ---\n",
        "# LOGIC: We want to compare the performance of students from different universities.\n",
        "# The most efficient way to do this is to group by the 'university' column\n",
        "# and then apply all our calculations at once to the 'score' column using .agg().\n",
        "print(\"--- Analysis Summary per University ---\")\n",
        "\n",
        "# Apply .groupby() and .agg() in one powerful line\n",
        "university_summary = grades_df.groupby('university')['score'].agg(['count', 'mean', 'max', 'min'])\n",
        "\n",
        "# Now, print the beautiful summary table\n",
        "print(university_summary)\n",
        "print(\"-\" * 30)\n",
        "\n",
        "print(\"Analysis Complete.\")"
      ]
    }
  ]
}