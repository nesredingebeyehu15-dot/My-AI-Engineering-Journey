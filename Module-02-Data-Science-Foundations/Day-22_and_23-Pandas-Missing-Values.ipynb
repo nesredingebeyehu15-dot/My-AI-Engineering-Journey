{
  "nbformat": 4,
  "nbformat_minor": 0,
  "metadata": {
    "colab": {
      "provenance": [],
      "authorship_tag": "ABX9TyN2o2p8qs6aDAHPHgHaZV8C",
      "include_colab_link": true
    },
    "kernelspec": {
      "name": "python3",
      "display_name": "Python 3"
    },
    "language_info": {
      "name": "python"
    }
  },
  "cells": [
    {
      "cell_type": "markdown",
      "metadata": {
        "id": "view-in-github",
        "colab_type": "text"
      },
      "source": [
        "<a href=\"https://colab.research.google.com/github/nesredingebeyehu15-dot/My-AI-Engineering-Journey/blob/main/Module-02-Data-Science-Foundations/Day-22_and_23-Pandas-Missing-Values.ipynb\" target=\"_parent\"><img src=\"https://colab.research.google.com/assets/colab-badge.svg\" alt=\"Open In Colab\"/></a>"
      ]
    },
    {
      "cell_type": "code",
      "execution_count": 1,
      "metadata": {
        "colab": {
          "base_uri": "https://localhost:8080/"
        },
        "id": "MValXn_bHRew",
        "outputId": "09afbf83-8b3a-48da-a2fb-40aeb247212d"
      },
      "outputs": [
        {
          "output_type": "stream",
          "name": "stdout",
          "text": [
            "--- STEP 1: Initial Messy Data ---\n",
            "  product_name  price_usd  units_sold\n",
            "0       Laptop     1200.0       150.0\n",
            "1        Mouse       25.0       200.0\n",
            "2     Keyboard       75.0       180.0\n",
            "3      Monitor        NaN       120.0\n",
            "4       Webcam       40.0         NaN\n",
            "\n",
            "\n",
            "--- STEP 2: Investigating Missing Values ---\n",
            "Count of missing values in each column:\n",
            "product_name    0\n",
            "price_usd       1\n",
            "units_sold      1\n",
            "dtype: int64\n",
            "\n",
            "\n",
            "--- STEP 3: Cleaning the Data ---\n",
            "Decision for 'price_usd': Filling NaN with the mean price of $335.00\n",
            "Decision for 'units_sold': Filling NaN with 0.\n",
            "\n",
            "\n",
            "--- STEP 4: Final Cleaned Data ---\n",
            "  product_name  price_usd  units_sold\n",
            "0       Laptop     1200.0       150.0\n",
            "1        Mouse       25.0       200.0\n",
            "2     Keyboard       75.0       180.0\n",
            "3      Monitor      335.0       120.0\n",
            "4       Webcam       40.0         0.0\n",
            "\n",
            "Final check for missing values:\n",
            "product_name    0\n",
            "price_usd       0\n",
            "units_sold      0\n",
            "dtype: int64\n",
            "\n",
            "Mission Accomplished. The data is now ready for analysis!\n"
          ]
        }
      ],
      "source": [
        "import pandas as pd\n",
        "import numpy as np\n",
        "\n",
        "# ======================================================================\n",
        "# PROJECT: Cleaning Product Data for a Fictional Online Store\n",
        "# GOAL: Handle missing values in the price and units_sold columns.\n",
        "# ======================================================================\n",
        "\n",
        "# --- 1. SETUP: Create the initial messy DataFrame ---\n",
        "product_data = {\n",
        "    'product_name': ['Laptop', 'Mouse', 'Keyboard', 'Monitor', 'Webcam'],\n",
        "    'price_usd': [1200, 25, 75, np.nan, 40],\n",
        "    'units_sold': [150, 200, 180, 120, np.nan]\n",
        "}\n",
        "products_df = pd.DataFrame(product_data)\n",
        "\n",
        "print(\"--- STEP 1: Initial Messy Data ---\")\n",
        "print(products_df)\n",
        "print(\"\\n\")\n",
        "\n",
        "\n",
        "# --- 2. INVESTIGATION: Find out where the problems are ---\n",
        "print(\"--- STEP 2: Investigating Missing Values ---\")\n",
        "print(\"Count of missing values in each column:\")\n",
        "print(products_df.isnull().sum())\n",
        "print(\"\\n\")\n",
        "\n",
        "\n",
        "# --- 3. CLEANING: Apply logical fixes ---\n",
        "print(\"--- STEP 3: Cleaning the Data ---\")\n",
        "# Create a copy to work on, preserving the original data\n",
        "cleaned_df = products_df.copy()\n",
        "\n",
        "# --- Fixing the 'price_usd' column ---\n",
        "# Logic: It's reasonable to fill a missing price with the average price of other products.\n",
        "mean_price = cleaned_df['price_usd'].mean()\n",
        "print(f\"Decision for 'price_usd': Filling NaN with the mean price of ${mean_price:.2f}\")\n",
        "cleaned_df['price_usd'] = cleaned_df['price_usd'].fillna(mean_price)\n",
        "\n",
        "# --- Fixing the 'units_sold' column ---\n",
        "# Logic: If units sold is missing, it's safer to assume 0 units were sold than to guess.\n",
        "print(\"Decision for 'units_sold': Filling NaN with 0.\")\n",
        "cleaned_df['units_sold'] = cleaned_df['units_sold'].fillna(0)\n",
        "print(\"\\n\")\n",
        "\n",
        "\n",
        "# --- 4. VERIFICATION: Show the final clean DataFrame ---\n",
        "print(\"--- STEP 4: Final Cleaned Data ---\")\n",
        "print(cleaned_df)\n",
        "\n",
        "# Final check to confirm there are no more missing values\n",
        "print(\"\\nFinal check for missing values:\")\n",
        "print(cleaned_df.isnull().sum())\n",
        "print(\"\\nMission Accomplished. The data is now ready for analysis!\")"
      ]
    }
  ]
}