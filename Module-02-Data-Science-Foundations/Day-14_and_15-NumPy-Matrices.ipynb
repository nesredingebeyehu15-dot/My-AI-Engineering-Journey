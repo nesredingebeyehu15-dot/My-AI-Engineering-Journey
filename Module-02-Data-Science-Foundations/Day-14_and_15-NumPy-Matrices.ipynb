{
  "nbformat": 4,
  "nbformat_minor": 0,
  "metadata": {
    "colab": {
      "provenance": [],
      "authorship_tag": "ABX9TyNnmNBVwk+s8SshMFdG/uAN",
      "include_colab_link": true
    },
    "kernelspec": {
      "name": "python3",
      "display_name": "Python 3"
    },
    "language_info": {
      "name": "python"
    }
  },
  "cells": [
    {
      "cell_type": "markdown",
      "metadata": {
        "id": "view-in-github",
        "colab_type": "text"
      },
      "source": [
        "<a href=\"https://colab.research.google.com/github/nesredingebeyehu15-dot/My-AI-Engineering-Journey/blob/main/Module-02-Data-Science-Foundations/Day-14_and_15-NumPy-Matrices.ipynb\" target=\"_parent\"><img src=\"https://colab.research.google.com/assets/colab-badge.svg\" alt=\"Open In Colab\"/></a>"
      ]
    },
    {
      "cell_type": "code",
      "execution_count": null,
      "metadata": {
        "colab": {
          "base_uri": "https://localhost:8080/"
        },
        "id": "7VNMWcuJ0jd7",
        "outputId": "19f1f820-2310-478f-d5d3-4cb3e3566039"
      },
      "outputs": [
        {
          "output_type": "stream",
          "name": "stdout",
          "text": [
            " Student 2's grades:[78 81 89 84]\n",
            "student 1st grades:[85 92 88 95]\n",
            "student 0,2 grades:[85 92]\n"
          ]
        }
      ],
      "source": [
        "import numpy as np\n",
        "grades_matrix = np.array([[85, 92, 88, 95],   # Student 1's grades\n",
        "[78, 81, 89, 84],   # Student 2's grades\n",
        "[90, 87, 93, 89]])  # Student 3's grades\n",
        "grade_2=grades_matrix[1,: ]\n",
        "print(f\" Student 2's grades:{grade_2}\")\n",
        "grade_1=grades_matrix[0,:]\n",
        "print(f\"student 1st grades:{grade_1}\")\n",
        "grade_0_2=grades_matrix[0,:2]\n",
        "print(f\"student 0,2 grades:{grade_0_2}\")"
      ]
    },
    {
      "cell_type": "code",
      "source": [],
      "metadata": {
        "id": "NdXA5CBk1SMq"
      },
      "execution_count": null,
      "outputs": []
    }
  ]
}