{
  "nbformat": 4,
  "nbformat_minor": 0,
  "metadata": {
    "colab": {
      "provenance": [],
      "authorship_tag": "ABX9TyMDNRq3oMeDYElRcd2zHz7f",
      "include_colab_link": true
    },
    "kernelspec": {
      "name": "python3",
      "display_name": "Python 3"
    },
    "language_info": {
      "name": "python"
    }
  },
  "cells": [
    {
      "cell_type": "markdown",
      "metadata": {
        "id": "view-in-github",
        "colab_type": "text"
      },
      "source": [
        "<a href=\"https://colab.research.google.com/github/nesredingebeyehu15-dot/My-AI-Engineering-Journey/blob/main/Module-01-Python-Foundation/Day-09_and_10-Functions.ipynb\" target=\"_parent\"><img src=\"https://colab.research.google.com/assets/colab-badge.svg\" alt=\"Open In Colab\"/></a>"
      ]
    },
    {
      "cell_type": "code",
      "execution_count": null,
      "metadata": {
        "id": "RZwAsfnP1WHx"
      },
      "outputs": [],
      "source": [
        "print(\"......The_BMI_calculator _function.......\")\n",
        "def calculator_bmi( weight_kg, height_m):\n",
        "       BMI=weight_kg / (height_m *height_m)\n",
        "              return BMI\n",
        "              my_BMI = calculator_bmi(50 ,1.75)\n",
        "              print(f\"your body mass index(BMI)is : {my_BMI}\")"
      ]
    }
  ]
}