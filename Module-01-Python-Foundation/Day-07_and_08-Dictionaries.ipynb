{
  "nbformat": 4,
  "nbformat_minor": 0,
  "metadata": {
    "colab": {
      "provenance": [],
      "authorship_tag": "ABX9TyPdLNsRSVmnwghtuPq5N3kD",
      "include_colab_link": true
    },
    "kernelspec": {
      "name": "python3",
      "display_name": "Python 3"
    },
    "language_info": {
      "name": "python"
    }
  },
  "cells": [
    {
      "cell_type": "markdown",
      "metadata": {
        "id": "view-in-github",
        "colab_type": "text"
      },
      "source": [
        "<a href=\"https://colab.research.google.com/github/nesredingebeyehu15-dot/My-AI-Engineering-Journey/blob/main/Module-01-Python-Foundation/Day-07_and_08-Dictionaries.ipynb\" target=\"_parent\"><img src=\"https://colab.research.google.com/assets/colab-badge.svg\" alt=\"Open In Colab\"/></a>"
      ]
    },
    {
      "cell_type": "code",
      "execution_count": 1,
      "metadata": {
        "colab": {
          "base_uri": "https://localhost:8080/"
        },
        "id": "0iC1GXOpsr--",
        "outputId": "b8497690-d1d5-4f81-828a-69f0bd60dbbc"
      },
      "outputs": [
        {
          "output_type": "stream",
          "name": "stdout",
          "text": [
            "\n",
            "--- Accessing Values in a Dictionary ---\n",
            "the name of student is :nesredin_gebeyehu\n",
            "his id is :1711/17\n",
            "his_course is:linear_algebra\n"
          ]
        }
      ],
      "source": [
        "print(\"\\n--- Accessing Values in a Dictionary ---\")\n",
        "student_record={ \"name\": \"nesredin_gebeyehu\",\"id_number\": \"1711/17\" ,\n",
        "\"courses\" :[\"linear_algebra\", \"oop\", \"statics\",\"inclusive\",\"database\" , \"economics\",\"DLD\"]}\n",
        "his_name=student_record[\"name\"]\n",
        "his_id=student_record[\"id_number\"]\n",
        "his_first_courses=student_record[\"courses\"][0]\n",
        "print (f\"the name of student is :{his_name}\")\n",
        "print(f\"his id is :{his_id}\")\n",
        "print(f\"his_course is:{his_first_courses}\")"
      ]
    }
  ]
}