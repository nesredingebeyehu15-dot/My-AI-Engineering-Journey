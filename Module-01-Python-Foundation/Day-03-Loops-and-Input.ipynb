{
  "nbformat": 4,
  "nbformat_minor": 0,
  "metadata": {
    "colab": {
      "provenance": [],
      "authorship_tag": "ABX9TyP2n8KLe6T7EyuiuBCSbZq3",
      "include_colab_link": true
    },
    "kernelspec": {
      "name": "python3",
      "display_name": "Python 3"
    },
    "language_info": {
      "name": "python"
    }
  },
  "cells": [
    {
      "cell_type": "markdown",
      "metadata": {
        "id": "view-in-github",
        "colab_type": "text"
      },
      "source": [
        "<a href=\"https://colab.research.google.com/github/nesredingebeyehu15-dot/My-AI-Engineering-Journey/blob/main/Module-01-Python-Foundation/Day-03-Loops-and-Input.ipynb\" target=\"_parent\"><img src=\"https://colab.research.google.com/assets/colab-badge.svg\" alt=\"Open In Colab\"/></a>"
      ]
    },
    {
      "cell_type": "code",
      "execution_count": 2,
      "metadata": {
        "colab": {
          "base_uri": "https://localhost:8080/"
        },
        "id": "lFXWeh4R8Rfu",
        "outputId": "3cb083c3-7e28-46b3-bb18-f898886d159e"
      },
      "outputs": [
        {
          "output_type": "stream",
          "name": "stdout",
          "text": [
            "User-Defined Times Table\n",
            "please enter any whole number:5\n",
            " 5*1=5\n",
            " 5*2=10\n",
            " 5*3=15\n",
            " 5*4=20\n",
            " 5*5=25\n",
            " 5*6=30\n",
            " 5*7=35\n",
            " 5*8=40\n",
            " 5*9=45\n",
            " 5*10=50\n",
            " 5*11=55\n",
            " 5*12=60\n"
          ]
        }
      ],
      "source": [
        "print(\"User-Defined Times Table\")\n",
        "user_input=input(\"please enter any whole number:\")\n",
        "number=int(user_input)\n",
        "for i in range (1,13):\n",
        "  result = number*i\n",
        "  print(f\" {number}*{i}={result}\")"
      ]
    }
  ]
}