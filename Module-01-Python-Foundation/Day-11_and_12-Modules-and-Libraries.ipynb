{
  "nbformat": 4,
  "nbformat_minor": 0,
  "metadata": {
    "colab": {
      "provenance": [],
      "authorship_tag": "ABX9TyP3iKfRD0jZDsFfdxkGKL6O",
      "include_colab_link": true
    },
    "kernelspec": {
      "name": "python3",
      "display_name": "Python 3"
    },
    "language_info": {
      "name": "python"
    }
  },
  "cells": [
    {
      "cell_type": "markdown",
      "metadata": {
        "id": "view-in-github",
        "colab_type": "text"
      },
      "source": [
        "<a href=\"https://colab.research.google.com/github/nesredingebeyehu15-dot/My-AI-Engineering-Journey/blob/main/Module-01-Python-Foundation/Day-11_and_12-Modules-and-Libraries.ipynb\" target=\"_parent\"><img src=\"https://colab.research.google.com/assets/colab-badge.svg\" alt=\"Open In Colab\"/></a>"
      ]
    },
    {
      "cell_type": "code",
      "execution_count": 1,
      "metadata": {
        "colab": {
          "base_uri": "https://localhost:8080/"
        },
        "id": "26aobNtdyWFc",
        "outputId": "443644a7-90fb-4e0b-8309-8fd5c54f0dc8"
      },
      "outputs": [
        {
          "output_type": "stream",
          "name": "stdout",
          "text": [
            "......simple dice rolling simulator.....\n",
            "playerd_1_rolled a:1\n",
            "playerd_2_rolled a:5\n"
          ]
        }
      ],
      "source": [
        "print(\"......simple dice rolling simulator.....\")\n",
        "import random\n",
        "player_1_roll=random.randint(1,6)\n",
        "player_2_roll=random.randint(1,6)\n",
        "print(f\"playerd_1_rolled a:{player_1_roll}\")\n",
        "print(f\"playerd_2_rolled a:{player_2_roll}\")"
      ]
    }
  ]
}