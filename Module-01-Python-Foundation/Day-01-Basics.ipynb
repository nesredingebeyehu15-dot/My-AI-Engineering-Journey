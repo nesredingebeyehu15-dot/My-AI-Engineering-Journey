{
  "nbformat": 4,
  "nbformat_minor": 0,
  "metadata": {
    "colab": {
      "provenance": [],
      "authorship_tag": "ABX9TyN5WpRagjqzH+s0Ogoq5emT",
      "include_colab_link": true
    },
    "kernelspec": {
      "name": "python3",
      "display_name": "Python 3"
    },
    "language_info": {
      "name": "python"
    }
  },
  "cells": [
    {
      "cell_type": "markdown",
      "metadata": {
        "id": "view-in-github",
        "colab_type": "text"
      },
      "source": [
        "<a href=\"https://colab.research.google.com/github/nesredingebeyehu15-dot/My-AI-Engineering-Journey/blob/main/Module-01-Python-Foundation/Day-01-Basics.ipynb\" target=\"_parent\"><img src=\"https://colab.research.google.com/assets/colab-badge.svg\" alt=\"Open In Colab\"/></a>"
      ]
    },
    {
      "cell_type": "code",
      "execution_count": 1,
      "metadata": {
        "colab": {
          "base_uri": "https://localhost:8080/"
        },
        "id": "qNxSrkcphgMk",
        "outputId": "ff1a9166-2607-448b-95fc-63d58f680b00"
      },
      "outputs": [
        {
          "output_type": "stream",
          "name": "stdout",
          "text": [
            "the total cost is : 95\n"
          ]
        }
      ],
      "source": [
        "#simple expense calculator\n",
        "bread_price= 15\n",
        "milk_price=80\n",
        "total_cost=bread_price + milk_price\n",
        "print(\"the total cost is :\" , total_cost )\n",
        "#i know one special phyton knowledge in this class , for example when i wrote print  after Quatation comma is necessary."
      ]
    }
  ]
}