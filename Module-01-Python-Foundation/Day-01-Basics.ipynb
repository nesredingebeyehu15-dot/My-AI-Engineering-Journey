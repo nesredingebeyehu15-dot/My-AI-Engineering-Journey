{
  "nbformat": 4,
  "nbformat_minor": 0,
  "metadata": {
    "colab": {
      "provenance": [],
      "authorship_tag": "ABX9TyNqhbhxgc+iJBVI1UC7FJtJ",
      "include_colab_link": true
    },
    "kernelspec": {
      "name": "python3",
      "display_name": "Python 3"
    },
    "language_info": {
      "name": "python"
    }
  },
  "cells": [
    {
      "cell_type": "markdown",
      "metadata": {
        "id": "view-in-github",
        "colab_type": "text"
      },
      "source": [
        "<a href=\"https://colab.research.google.com/github/nesredingebeyehu15-dot/My-AI-Engineering-Journey/blob/main/Module-01-Python-Foundation/Day-01-Basics.ipynb\" target=\"_parent\"><img src=\"https://colab.research.google.com/assets/colab-badge.svg\" alt=\"Open In Colab\"/></a>"
      ]
    },
    {
      "cell_type": "code",
      "execution_count": 1,
      "metadata": {
        "colab": {
          "base_uri": "https://localhost:8080/"
        },
        "id": "IchXGoH_AIqf",
        "outputId": "a2023f89-2ec0-4687-cfb6-4cf4528b02bb"
      },
      "outputs": [
        {
          "output_type": "stream",
          "name": "stdout",
          "text": [
            "In the name of Allah, my journey begins now.\n",
            "This is my dedicated 1.5 hours for my AI dream.\n",
            "A simple calculation: 10 + 5 = 15\n",
            "-------------------------------------------------------\n",
            "My primary goal is to: Become a world-class AI Engineer\n",
            "My secondary goal is to: Become a professional Pilot\n",
            "I plan to achieve this in: 3 years.\n",
            "My estimated probability of success is: 99.9 %\n",
            "-------------------------------------------------------\n",
            "My favorite language for AI is: Python\n",
            "I will study for 1.5 hours every day.\n",
            "This means I will study a total of 10.5 hours per week for my dream.\n",
            "=======================================================\n",
            "Day 1 Mission Accomplished. Alhamdulillah!\n"
          ]
        }
      ],
      "source": [
        "# =======================================================\n",
        "#           DAY 1: MY AI ENGINEERING JOURNEY\n",
        "#           TOPIC: PYTHON BASICS\n",
        "# =======================================================\n",
        "\n",
        "# ---------- STEP 1: Our First Conversation with the Computer ----------\n",
        "print(\"In the name of Allah, my journey begins now.\")\n",
        "print(\"This is my dedicated 1.5 hours for my AI dream.\")\n",
        "print(\"A simple calculation: 10 + 5 =\", 10 + 5)\n",
        "print(\"-------------------------------------------------------\")\n",
        "\n",
        "\n",
        "# ---------- STEP 2: Storing Information using Variables ----------\n",
        "\n",
        "# --- Text Data (Strings) ---\n",
        "primary_goal = \"Become a world-class AI Engineer\"\n",
        "secondary_goal = \"Become a professional Pilot\"\n",
        "\n",
        "# --- Numerical Data (Integers and Floats) ---\n",
        "years_to_achieve = 3\n",
        "success_probability = 99.9\n",
        "\n",
        "# --- Printing the stored information ---\n",
        "print(\"My primary goal is to:\", primary_goal)\n",
        "print(\"My secondary goal is to:\", secondary_goal)\n",
        "print(\"I plan to achieve this in:\", years_to_achieve, \"years.\")\n",
        "print(\"My estimated probability of success is:\", success_probability, \"%\")\n",
        "print(\"-------------------------------------------------------\")\n",
        "\n",
        "\n",
        "# ---------- STEP 3: TODAY'S EXERCISE ----------\n",
        "# Goal: Calculate the total weekly study hours and print a summary.\n",
        "\n",
        "# 1. Create a variable for your favorite language.\n",
        "favorite_language = \"Python\"\n",
        "\n",
        "# 2. Create a variable for the daily study hours.\n",
        "hours_per_day = 1.5\n",
        "\n",
        "# 3. Create a variable for the number of days you study per week.\n",
        "days_per_week = 7\n",
        "\n",
        "# 4. Calculate the total hours per week.\n",
        "# The formula is: hours_per_day multiplied by days_per_week\n",
        "total_hours_per_week = hours_per_day * days_per_week\n",
        "\n",
        "# 5. Print the summary using the variables.\n",
        "print(\"My favorite language for AI is:\", favorite_language)\n",
        "print(\"I will study for\", hours_per_day, \"hours every day.\")\n",
        "print(\"This means I will study a total of\", total_hours_per_week, \"hours per week for my dream.\")\n",
        "print(\"=======================================================\")\n",
        "print(\"Day 1 Mission Accomplished. Alhamdulillah!\")"
      ]
    }
  ]
}