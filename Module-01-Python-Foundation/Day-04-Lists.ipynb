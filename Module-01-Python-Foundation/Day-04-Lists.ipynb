{
  "nbformat": 4,
  "nbformat_minor": 0,
  "metadata": {
    "colab": {
      "provenance": [],
      "authorship_tag": "ABX9TyN+VCqvYbGssBt8k0DZWFrW",
      "include_colab_link": true
    },
    "kernelspec": {
      "name": "python3",
      "display_name": "Python 3"
    },
    "language_info": {
      "name": "python"
    }
  },
  "cells": [
    {
      "cell_type": "markdown",
      "metadata": {
        "id": "view-in-github",
        "colab_type": "text"
      },
      "source": [
        "<a href=\"https://colab.research.google.com/github/nesredingebeyehu15-dot/My-AI-Engineering-Journey/blob/main/Module-01-Python-Foundation/Day-04-Lists.ipynb\" target=\"_parent\"><img src=\"https://colab.research.google.com/assets/colab-badge.svg\" alt=\"Open In Colab\"/></a>"
      ]
    },
    {
      "cell_type": "code",
      "execution_count": 1,
      "metadata": {
        "colab": {
          "base_uri": "https://localhost:8080/"
        },
        "id": "6oI6thIkiDUT",
        "outputId": "c01bc488-efe3-4f04-c7fd-bcc0b7c3db02"
      },
      "outputs": [
        {
          "output_type": "stream",
          "name": "stdout",
          "text": [
            "\n",
            "--- weekly_schedule ---\n",
            "weeklyschedule:Monday\n",
            "['Monday', 'Tuesday', 'wendsday', 'Thursday', 'Friday', 'saturday', 'sunday']\n"
          ]
        }
      ],
      "source": [
        "print(\"\\n--- weekly_schedule ---\")\n",
        "weekly_schedule_list=[\"Monday\",\"Tuesday\",\"wendsday\",\"Thursday\",\"Friday\"]\n",
        "\n",
        "project_day= weekly_schedule_list[0]\n",
        "\n",
        "print(f\"weeklyschedule:{project_day}\")\n",
        "weekly_schedule_list.append(\"saturday\")\n",
        "weekly_schedule_list.append(\"sunday\")\n",
        "print(weekly_schedule_list)\n",
        "\n"
      ]
    }
  ]
}