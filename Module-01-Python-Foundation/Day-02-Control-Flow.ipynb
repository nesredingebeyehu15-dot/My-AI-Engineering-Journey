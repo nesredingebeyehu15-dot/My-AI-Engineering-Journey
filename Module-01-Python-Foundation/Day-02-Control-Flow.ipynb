{
  "nbformat": 4,
  "nbformat_minor": 0,
  "metadata": {
    "colab": {
      "provenance": [],
      "authorship_tag": "ABX9TyPhROZ/JevepFm36H8uaeuN",
      "include_colab_link": true
    },
    "kernelspec": {
      "name": "python3",
      "display_name": "Python 3"
    },
    "language_info": {
      "name": "python"
    }
  },
  "cells": [
    {
      "cell_type": "markdown",
      "metadata": {
        "id": "view-in-github",
        "colab_type": "text"
      },
      "source": [
        "<a href=\"https://colab.research.google.com/github/nesredingebeyehu15-dot/My-AI-Engineering-Journey/blob/main/Module-01-Python-Foundation/Day-02-Control-Flow.ipynb\" target=\"_parent\"><img src=\"https://colab.research.google.com/assets/colab-badge.svg\" alt=\"Open In Colab\"/></a>"
      ]
    },
    {
      "cell_type": "code",
      "execution_count": 1,
      "metadata": {
        "colab": {
          "base_uri": "https://localhost:8080/"
        },
        "id": "OZHAoRXQKoI_",
        "outputId": "4f853016-f013-4bd6-ca08-060648ac05e6"
      },
      "outputs": [
        {
          "output_type": "stream",
          "name": "stdout",
          "text": [
            "Checking the number: -3\n",
            "Result: The number is Negative.\n"
          ]
        }
      ],
      "source": [
        "# --- Day 2 Mission: Corrected and Mastered ---\n",
        "\n",
        "# Create a variable and give it a number. Try changing it!\n",
        "number = -3\n",
        "\n",
        "print(f\"Checking the number: {number}\")\n",
        "\n",
        "if number > 0:\n",
        "    print(\"Result: The number is Positive.\")\n",
        "elif number < 0:\n",
        "    print(\"Result: The number is Negative.\")\n",
        "else:\n",
        "    print(\"Result: The number is Zero.\")"
      ]
    }
  ]
}