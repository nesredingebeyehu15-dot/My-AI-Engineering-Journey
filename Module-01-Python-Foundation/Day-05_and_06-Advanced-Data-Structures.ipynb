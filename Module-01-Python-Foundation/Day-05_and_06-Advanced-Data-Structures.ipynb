{
  "nbformat": 4,
  "nbformat_minor": 0,
  "metadata": {
    "colab": {
      "provenance": [],
      "authorship_tag": "ABX9TyOFdFueVwQ3szv7tPqmKeFO",
      "include_colab_link": true
    },
    "kernelspec": {
      "name": "python3",
      "display_name": "Python 3"
    },
    "language_info": {
      "name": "python"
    }
  },
  "cells": [
    {
      "cell_type": "markdown",
      "metadata": {
        "id": "view-in-github",
        "colab_type": "text"
      },
      "source": [
        "<a href=\"https://colab.research.google.com/github/nesredingebeyehu15-dot/My-AI-Engineering-Journey/blob/main/Module-01-Python-Foundation/Day-05_and_06-Advanced-Data-Structures.ipynb\" target=\"_parent\"><img src=\"https://colab.research.google.com/assets/colab-badge.svg\" alt=\"Open In Colab\"/></a>"
      ]
    },
    {
      "cell_type": "code",
      "execution_count": 3,
      "metadata": {
        "colab": {
          "base_uri": "https://localhost:8080/"
        },
        "id": "20S4HigTcvQO",
        "outputId": "29c5288c-7703-4015-ef0f-4caa6dbd29c7"
      },
      "outputs": [
        {
          "output_type": "stream",
          "name": "stdout",
          "text": [
            "........ simple score analyser.........\n",
            "the student attend the exam is 7.\n",
            "the sorted score is this:[72, 78, 85, 88, 89, 93, 98]\n",
            "the maximum score is: 98, the minimum score is :72\n",
            "the top 3 scores are:[89, 93, 98]\n",
            "the passing range is  between:(50, 100)\n"
          ]
        }
      ],
      "source": [
        "print (\"........ simple score analyser.........\")\n",
        "exam_score=[85, 93, 78, 98, 88, 72, 89]\n",
        "total=len(exam_score)\n",
        "print(f\"the student attend the exam is {total}.\" )\n",
        "exam_score.sort()\n",
        "print(f\"the sorted score is this:{exam_score}\")\n",
        "minimum_score=exam_score[0]\n",
        "maximum_score =exam_score[6]\n",
        "print(f\"the maximum score is: {maximum_score}, the minimum score is :{minimum_score}\")\n",
        "top_3_score= exam_score[-3: ]\n",
        "print(f\"the top 3 scores are:{top_3_score}\")\n",
        "pasing_range=(50,100)\n",
        "print(f\"the passing range is  between:{pasing_range}\")"
      ]
    }
  ]
}